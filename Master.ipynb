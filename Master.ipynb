{
 "cells": [
  {
   "cell_type": "code",
   "execution_count": 1,
   "metadata": {},
   "outputs": [],
   "source": [
    "%reload_ext autoreload\n",
    "%autoreload 2\n",
    "%matplotlib inline"
   ]
  },
  {
   "cell_type": "code",
   "execution_count": 3,
   "metadata": {},
   "outputs": [],
   "source": [
    "from fastai.text import *"
   ]
  },
  {
   "cell_type": "code",
   "execution_count": 5,
   "metadata": {},
   "outputs": [],
   "source": [
    "path = '.'"
   ]
  },
  {
   "cell_type": "code",
   "execution_count": 4,
   "metadata": {},
   "outputs": [],
   "source": [
    "df = pd.read_csv('./marknorm.csv')"
   ]
  },
  {
   "cell_type": "code",
   "execution_count": 10,
   "metadata": {},
   "outputs": [
    {
     "data": {
      "text/html": [
       "<div>\n",
       "<style scoped>\n",
       "    .dataframe tbody tr th:only-of-type {\n",
       "        vertical-align: middle;\n",
       "    }\n",
       "\n",
       "    .dataframe tbody tr th {\n",
       "        vertical-align: top;\n",
       "    }\n",
       "\n",
       "    .dataframe thead th {\n",
       "        text-align: right;\n",
       "    }\n",
       "</style>\n",
       "<table border=\"1\" class=\"dataframe\">\n",
       "  <thead>\n",
       "    <tr style=\"text-align: right;\">\n",
       "      <th></th>\n",
       "      <th>tweets</th>\n",
       "    </tr>\n",
       "  </thead>\n",
       "  <tbody>\n",
       "    <tr>\n",
       "      <th>0</th>\n",
       "      <td>The original Church's Chicken</td>\n",
       "    </tr>\n",
       "    <tr>\n",
       "      <th>1</th>\n",
       "      <td>If Karen was a video game, the boss would be E...</td>\n",
       "    </tr>\n",
       "    <tr>\n",
       "      <th>2</th>\n",
       "      <td>You never hear about regular terrestrials.</td>\n",
       "    </tr>\n",
       "    <tr>\n",
       "      <th>3</th>\n",
       "      <td>It’s gonna be really weird when full nude stri...</td>\n",
       "    </tr>\n",
       "    <tr>\n",
       "      <th>4</th>\n",
       "      <td>In the past it was weird to not be a flat eart...</td>\n",
       "    </tr>\n",
       "    <tr>\n",
       "      <th>...</th>\n",
       "      <td>...</td>\n",
       "    </tr>\n",
       "    <tr>\n",
       "      <th>16552</th>\n",
       "      <td>I only pee on the seat if its already down. Ot...</td>\n",
       "    </tr>\n",
       "    <tr>\n",
       "      <th>16553</th>\n",
       "      <td>I saw the new pac man movie, but I couldnt fol...</td>\n",
       "    </tr>\n",
       "    <tr>\n",
       "      <th>16554</th>\n",
       "      <td>Whoops, bad link. Here it is:</td>\n",
       "    </tr>\n",
       "    <tr>\n",
       "      <th>16555</th>\n",
       "      <td>Our first lady guest on Jumping for Joy!!!</td>\n",
       "    </tr>\n",
       "    <tr>\n",
       "      <th>16556</th>\n",
       "      <td>its ironic how condom dispensers actually are ...</td>\n",
       "    </tr>\n",
       "  </tbody>\n",
       "</table>\n",
       "<p>16557 rows × 1 columns</p>\n",
       "</div>"
      ],
      "text/plain": [
       "                                                  tweets\n",
       "0                          The original Church's Chicken\n",
       "1      If Karen was a video game, the boss would be E...\n",
       "2             You never hear about regular terrestrials.\n",
       "3      It’s gonna be really weird when full nude stri...\n",
       "4      In the past it was weird to not be a flat eart...\n",
       "...                                                  ...\n",
       "16552  I only pee on the seat if its already down. Ot...\n",
       "16553  I saw the new pac man movie, but I couldnt fol...\n",
       "16554                      Whoops, bad link. Here it is:\n",
       "16555         Our first lady guest on Jumping for Joy!!!\n",
       "16556  its ironic how condom dispensers actually are ...\n",
       "\n",
       "[16557 rows x 1 columns]"
      ]
     },
     "execution_count": 10,
     "metadata": {},
     "output_type": "execute_result"
    }
   ],
   "source": [
    "df "
   ]
  },
  {
   "cell_type": "code",
   "execution_count": 17,
   "metadata": {},
   "outputs": [
    {
     "data": {
      "text/html": [],
      "text/plain": [
       "<IPython.core.display.HTML object>"
      ]
     },
     "metadata": {},
     "output_type": "display_data"
    },
    {
     "data": {
      "text/html": [],
      "text/plain": [
       "<IPython.core.display.HTML object>"
      ]
     },
     "metadata": {},
     "output_type": "display_data"
    }
   ],
   "source": [
    "data = TextLMDataBunch.from_csv(path, \"marknorm.csv\", text_cols=0)"
   ]
  },
  {
   "cell_type": "code",
   "execution_count": 23,
   "metadata": {},
   "outputs": [
    {
     "data": {
      "text/plain": [
       "TextLMDataBunch;\n",
       "\n",
       "Train: LabelList (13245 items)\n",
       "x: LMTextList\n",
       "xxbos xxmaj guys do n't want to date an overweight girl , girls do n't want to date a short guy . xxmaj the big difference is , girls can ask a guy 's height .,xxbos \" xxmaj no , i do n't want to hear about the specials . \" \n",
       " \n",
       "  - xxmaj guy who hates hearing about retarded kids .,xxbos xxmaj how is it that i love being alone yet i ’m still scared of having no one ?,xxbos xxmaj god damnit ! !,xxbos xxmaj puberty was the original transitioning .\n",
       "y: LMLabelList\n",
       ",,,,\n",
       "Path: .;\n",
       "\n",
       "Valid: LabelList (3312 items)\n",
       "x: LMTextList\n",
       "xxbos xxmaj would you still like me if i gained xxunk lbs ? i want you to like xxup me not just me physically ! \" \n",
       " \n",
       "  xxmaj then why so mad i did n't notice your haircut ?,xxbos i do n't like the term super foods . xxmaj eating healthy just makes your body run xxunk . xxmaj if i 'm gon na drink spinach and celery juice i want powers .,xxbos xxmaj this must be a fun day for xxup std xxunk .,xxbos xxmaj when you 're explaining something , no need to say \" i 'm no xxunk scientist but ... \" xxmaj we got that part .,xxbos xxmaj people told me xxup nyc is better cuz you ca n't get a xxup dui in the subway . xxmaj but when i drank and xxunk i never had a guy masturbating next to me .\n",
       "y: LMLabelList\n",
       ",,,,\n",
       "Path: .;\n",
       "\n",
       "Test: None"
      ]
     },
     "execution_count": 23,
     "metadata": {},
     "output_type": "execute_result"
    }
   ],
   "source": [
    "data"
   ]
  },
  {
   "cell_type": "code",
   "execution_count": 24,
   "metadata": {},
   "outputs": [],
   "source": [
    "data.save()"
   ]
  },
  {
   "cell_type": "code",
   "execution_count": 25,
   "metadata": {},
   "outputs": [],
   "source": [
    "data = load_data(path)"
   ]
  },
  {
   "cell_type": "code",
   "execution_count": 27,
   "metadata": {},
   "outputs": [
    {
     "data": {
      "text/html": [
       "<table border=\"1\" class=\"dataframe\">\n",
       "  <thead>\n",
       "    <tr style=\"text-align: right;\">\n",
       "      <th>idx</th>\n",
       "      <th>text</th>\n",
       "    </tr>\n",
       "  </thead>\n",
       "  <tbody>\n",
       "    <tr>\n",
       "      <td>0</td>\n",
       "      <td>love being alone yet i ’m still scared of having no one ? xxbos xxmaj god damnit ! ! xxbos xxmaj puberty was the original transitioning . xxbos xxmaj you ever get mad at someone for doing something , then you realize \" wait , i do that all the time ! \" xxbos i wanna thank all the military men walking around xxup nyc this week . xxmaj one</td>\n",
       "    </tr>\n",
       "    <tr>\n",
       "      <td>1</td>\n",
       "      <td>= indecent exposure \\n \\n  xxmaj exposed male breast = legal \\n \\n  xxmaj exposed breast with an infant sucking on it = xxunk \\n \\n  xxmaj exposed male breast with baby sucking on it = very illegal xxbos xxmaj churches have closed and yet xxmaj xxunk is being incredibly charitable . xxmaj who ’s xxunk indecent now ! ? xxbos xxmaj my masseuse is very disrespectful</td>\n",
       "    </tr>\n",
       "    <tr>\n",
       "      <td>2</td>\n",
       "      <td>. \\n \\n  xxmaj friend : xxmaj oh there are videos with them in it too . xxbos xxmaj this guy is telling me he has a hard life because he 's gay and xxmaj puerto xxmaj rican . xxmaj cheer up buddy , you have the most parades . xxbos i wonder if carnivorous dinosaurs thought the herbivores were pretentious . xxbos xxmaj so do girlfriends . xxbos</td>\n",
       "    </tr>\n",
       "    <tr>\n",
       "      <td>3</td>\n",
       "      <td>the guy who rubs one out on the subway . xxbos a lot of the things women like in the bedroom , they hate outside the bedroom . xxmaj try pulling your girls hair in the kitchen ! xxbos xxmaj the state flag of xxmaj florida should be two geckos fighting over a coke filled condom in the parking lot of a gun range . xxbos i generally dislike myself</td>\n",
       "    </tr>\n",
       "    <tr>\n",
       "      <td>4</td>\n",
       "      <td>heavy things for me i 'd wonder if i had special needs . xxbos xxmaj saw a sign that read : \" stds do nt discriminate ! \" xxmaj well , it 's good to know xxup hpv voted for xxmaj obama . xxbos xxmaj wearing your shirt in the pool is not nearly as embarrassing as wearing no shirt while playing pool . xxbos i 'll know i 've</td>\n",
       "    </tr>\n",
       "  </tbody>\n",
       "</table>"
      ],
      "text/plain": [
       "<IPython.core.display.HTML object>"
      ]
     },
     "metadata": {},
     "output_type": "display_data"
    }
   ],
   "source": [
    "data.show_batch()"
   ]
  },
  {
   "cell_type": "code",
   "execution_count": null,
   "metadata": {},
   "outputs": [],
   "source": []
  }
 ],
 "metadata": {
  "kernelspec": {
   "display_name": "Python 3",
   "language": "python",
   "name": "python3"
  },
  "language_info": {
   "codemirror_mode": {
    "name": "ipython",
    "version": 3
   },
   "file_extension": ".py",
   "mimetype": "text/x-python",
   "name": "python",
   "nbconvert_exporter": "python",
   "pygments_lexer": "ipython3",
   "version": "3.7.3"
  },
  "varInspector": {
   "cols": {
    "lenName": 16,
    "lenType": 16,
    "lenVar": 40
   },
   "kernels_config": {
    "python": {
     "delete_cmd_postfix": "",
     "delete_cmd_prefix": "del ",
     "library": "var_list.py",
     "varRefreshCmd": "print(var_dic_list())"
    },
    "r": {
     "delete_cmd_postfix": ") ",
     "delete_cmd_prefix": "rm(",
     "library": "var_list.r",
     "varRefreshCmd": "cat(var_dic_list()) "
    }
   },
   "types_to_exclude": [
    "module",
    "function",
    "builtin_function_or_method",
    "instance",
    "_Feature"
   ],
   "window_display": false
  }
 },
 "nbformat": 4,
 "nbformat_minor": 2
}
